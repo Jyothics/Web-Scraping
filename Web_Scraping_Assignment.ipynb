{
  "nbformat": 4,
  "nbformat_minor": 0,
  "metadata": {
    "colab": {
      "name": "Web Scraping Assignment.ipynb",
      "provenance": [],
      "collapsed_sections": []
    },
    "kernelspec": {
      "name": "python3",
      "display_name": "Python 3"
    }
  },
  "cells": [
    {
      "cell_type": "code",
      "metadata": {
        "id": "M2ybKS9cqjAx",
        "colab_type": "code",
        "outputId": "1f410607-5632-4d9b-ca69-b10815f2116b",
        "colab": {
          "base_uri": "https://localhost:8080/",
          "height": 55
        }
      },
      "source": [
        "main_url = \"http://books.toscrape.com/index.html\"\n",
        "\n",
        "import requests\n",
        "result = requests.get(main_url)\n",
        "\n",
        "result.text[:1000]"
      ],
      "execution_count": 0,
      "outputs": [
        {
          "output_type": "execute_result",
          "data": {
            "text/plain": [
              "'<!DOCTYPE html>\\n<!--[if lt IE 7]>      <html lang=\"en-us\" class=\"no-js lt-ie9 lt-ie8 lt-ie7\"> <![endif]-->\\n<!--[if IE 7]>         <html lang=\"en-us\" class=\"no-js lt-ie9 lt-ie8\"> <![endif]-->\\n<!--[if IE 8]>         <html lang=\"en-us\" class=\"no-js lt-ie9\"> <![endif]-->\\n<!--[if gt IE 8]><!--> <html lang=\"en-us\" class=\"no-js\"> <!--<![endif]-->\\n    <head>\\n        <title>\\n    All products | Books to Scrape - Sandbox\\n</title>\\n\\n        <meta http-equiv=\"content-type\" content=\"text/html; charset=UTF-8\" />\\n        <meta name=\"created\" content=\"24th Jun 2016 09:29\" />\\n        <meta name=\"description\" content=\"\" />\\n        <meta name=\"viewport\" content=\"width=device-width\" />\\n        <meta name=\"robots\" content=\"NOARCHIVE,NOCACHE\" />\\n\\n        <!-- Le HTML5 shim, for IE6-8 support of HTML elements -->\\n        <!--[if lt IE 9]>\\n        <script src=\"//html5shim.googlecode.com/svn/trunk/html5.js\"></script>\\n        <![endif]-->\\n\\n        \\n            <link rel=\"shortcut icon\" href=\"static/oscar/favicon.'"
            ]
          },
          "metadata": {
            "tags": []
          },
          "execution_count": 1
        }
      ]
    },
    {
      "cell_type": "code",
      "metadata": {
        "id": "ipx73CqIqw5C",
        "colab_type": "code",
        "outputId": "ff53ab6c-0681-486c-d780-d54f9a9d85d7",
        "colab": {
          "base_uri": "https://localhost:8080/",
          "height": 399
        }
      },
      "source": [
        "from bs4 import BeautifulSoup\n",
        "soup = BeautifulSoup(result.text, 'html.parser')\n",
        "\n",
        "print(soup.prettify()[:1000])"
      ],
      "execution_count": 0,
      "outputs": [
        {
          "output_type": "stream",
          "text": [
            "<!DOCTYPE html>\n",
            "<!--[if lt IE 7]>      <html lang=\"en-us\" class=\"no-js lt-ie9 lt-ie8 lt-ie7\"> <![endif]-->\n",
            "<!--[if IE 7]>         <html lang=\"en-us\" class=\"no-js lt-ie9 lt-ie8\"> <![endif]-->\n",
            "<!--[if IE 8]>         <html lang=\"en-us\" class=\"no-js lt-ie9\"> <![endif]-->\n",
            "<!--[if gt IE 8]><!-->\n",
            "<html class=\"no-js\" lang=\"en-us\">\n",
            " <!--<![endif]-->\n",
            " <head>\n",
            "  <title>\n",
            "   All products | Books to Scrape - Sandbox\n",
            "  </title>\n",
            "  <meta content=\"text/html; charset=utf-8\" http-equiv=\"content-type\"/>\n",
            "  <meta content=\"24th Jun 2016 09:29\" name=\"created\"/>\n",
            "  <meta content=\"\" name=\"description\"/>\n",
            "  <meta content=\"width=device-width\" name=\"viewport\"/>\n",
            "  <meta content=\"NOARCHIVE,NOCACHE\" name=\"robots\"/>\n",
            "  <!-- Le HTML5 shim, for IE6-8 support of HTML elements -->\n",
            "  <!--[if lt IE 9]>\n",
            "        <script src=\"//html5shim.googlecode.com/svn/trunk/html5.js\"></script>\n",
            "        <![endif]-->\n",
            "  <link href=\"static/oscar/favicon.ico\" rel=\"shortcut icon\"/>\n",
            "  <link href=\"static/oscar/css/styles.css\" rel=\"stylesheet\" type=\"tex\n"
          ],
          "name": "stdout"
        }
      ]
    },
    {
      "cell_type": "code",
      "metadata": {
        "id": "e8TPqHyJq11r",
        "colab_type": "code",
        "colab": {}
      },
      "source": [
        "def getAndParseURL(url):\n",
        "    result = requests.get(url)\n",
        "    soup = BeautifulSoup(result.text, 'html.parser')\n",
        "    return(soup)"
      ],
      "execution_count": 0,
      "outputs": []
    },
    {
      "cell_type": "code",
      "metadata": {
        "id": "vA6J3XmVrlRq",
        "colab_type": "code",
        "outputId": "9721d850-021c-4939-bb31-fa586e1527e0",
        "colab": {
          "base_uri": "https://localhost:8080/",
          "height": 55
        }
      },
      "source": [
        "#soup.find(\"article\", class_ = \"product_pod\")\n",
        "soup.find(\"article\", class_ = \"product_pod\").div.a"
      ],
      "execution_count": 0,
      "outputs": [
        {
          "output_type": "execute_result",
          "data": {
            "text/plain": [
              "<a href=\"catalogue/a-light-in-the-attic_1000/index.html\"><img alt=\"A Light in the Attic\" class=\"thumbnail\" src=\"media/cache/2c/da/2cdad67c44b002e7ead0cc35693c0e8b.jpg\"/></a>"
            ]
          },
          "metadata": {
            "tags": []
          },
          "execution_count": 5
        }
      ]
    },
    {
      "cell_type": "code",
      "metadata": {
        "id": "3z5G93PIruH2",
        "colab_type": "code",
        "outputId": "1d83b50c-645a-45e3-8e19-21480fddaeeb",
        "colab": {
          "base_uri": "https://localhost:8080/",
          "height": 35
        }
      },
      "source": [
        "soup.find(\"article\", class_ = \"product_pod\").div.a.get('href')"
      ],
      "execution_count": 0,
      "outputs": [
        {
          "output_type": "execute_result",
          "data": {
            "text/plain": [
              "'catalogue/a-light-in-the-attic_1000/index.html'"
            ]
          },
          "metadata": {
            "tags": []
          },
          "execution_count": 6
        }
      ]
    },
    {
      "cell_type": "code",
      "metadata": {
        "id": "O9hc5ghcr28B",
        "colab_type": "code",
        "outputId": "1c1b6d4e-2034-4f17-a685-bb86f2d20718",
        "colab": {
          "base_uri": "https://localhost:8080/",
          "height": 69
        }
      },
      "source": [
        "main_page_products_urls = [x.div.a.get('href') for x in soup.findAll(\"article\", class_ = \"product_pod\")]\n",
        "\n",
        "print(str(len(main_page_products_urls)) + \" fetched products URLs\")\n",
        "print(\"One example:\")\n",
        "main_page_products_urls[0]"
      ],
      "execution_count": 0,
      "outputs": [
        {
          "output_type": "stream",
          "text": [
            "20 fetched products URLs\n",
            "One example:\n"
          ],
          "name": "stdout"
        },
        {
          "output_type": "execute_result",
          "data": {
            "text/plain": [
              "'catalogue/a-light-in-the-attic_1000/index.html'"
            ]
          },
          "metadata": {
            "tags": []
          },
          "execution_count": 7
        }
      ]
    },
    {
      "cell_type": "code",
      "metadata": {
        "id": "TVDK1V_5sC13",
        "colab_type": "code",
        "colab": {}
      },
      "source": [
        "def getBooksURLs(url):\n",
        "    soup = getAndParseURL(url)\n",
        "    # remove the index.html part of the base url before returning the results\n",
        "    return([\"/\".join(url.split(\"/\")[:-1]) + \"/\" + x.div.a.get('href') for x in soup.findAll(\"article\", class_ = \"product_pod\")])\n"
      ],
      "execution_count": 0,
      "outputs": []
    },
    {
      "cell_type": "code",
      "metadata": {
        "id": "3YC3ydadsL5k",
        "colab_type": "code",
        "outputId": "6ecbf89d-29d3-4bc7-db12-7157be58a731",
        "colab": {
          "base_uri": "https://localhost:8080/",
          "height": 139
        }
      },
      "source": [
        "import re\n",
        "\n",
        "categories_urls = [main_url + x.get('href') for x in soup.find_all(\"a\", href=re.compile(\"catalogue/category/books\"))]\n",
        "categories_urls = categories_urls[1:] # we remove the first one because it corresponds to all the books\n",
        "\n",
        "print(str(len(categories_urls)) + \" fetched categories URLs\")\n",
        "print(\"Some examples:\")\n",
        "categories_urls[:5]"
      ],
      "execution_count": 0,
      "outputs": [
        {
          "output_type": "stream",
          "text": [
            "50 fetched categories URLs\n",
            "Some examples:\n"
          ],
          "name": "stdout"
        },
        {
          "output_type": "execute_result",
          "data": {
            "text/plain": [
              "['http://books.toscrape.com/index.htmlcatalogue/category/books/travel_2/index.html',\n",
              " 'http://books.toscrape.com/index.htmlcatalogue/category/books/mystery_3/index.html',\n",
              " 'http://books.toscrape.com/index.htmlcatalogue/category/books/historical-fiction_4/index.html',\n",
              " 'http://books.toscrape.com/index.htmlcatalogue/category/books/sequential-art_5/index.html',\n",
              " 'http://books.toscrape.com/index.htmlcatalogue/category/books/classics_6/index.html']"
            ]
          },
          "metadata": {
            "tags": []
          },
          "execution_count": 9
        }
      ]
    },
    {
      "cell_type": "code",
      "metadata": {
        "id": "QejVEwMssaHK",
        "colab_type": "code",
        "outputId": "7f91875f-3d7f-4a74-aa26-d97c04cff376",
        "colab": {
          "base_uri": "https://localhost:8080/",
          "height": 139
        }
      },
      "source": [
        "# store all the results into a list\n",
        "pages_urls = [main_url]\n",
        "\n",
        "soup = getAndParseURL(pages_urls[0])\n",
        "\n",
        "# while we get two matches, this means that the webpage contains a 'previous' and a 'next' button\n",
        "# if there is only one button, this means that we are either on the first page or on the last page\n",
        "# we stop when we get to the last page\n",
        "\n",
        "while len(soup.findAll(\"a\", href=re.compile(\"page\"))) == 2 or len(pages_urls) == 1:\n",
        "    \n",
        "    # get the new complete url by adding the fetched URL to the base URL (and removing the .html part of the base URL)\n",
        "    new_url = \"/\".join(pages_urls[-1].split(\"/\")[:-1]) + \"/\" + soup.findAll(\"a\", href=re.compile(\"page\"))[-1].get(\"href\")\n",
        "    \n",
        "    # add the URL to the list\n",
        "    pages_urls.append(new_url)\n",
        "    \n",
        "    # parse the next page\n",
        "    soup = getAndParseURL(new_url)\n",
        "    \n",
        "\n",
        "print(str(len(pages_urls)) + \" fetched URLs\")\n",
        "print(\"Some examples:\")\n",
        "pages_urls[:5]"
      ],
      "execution_count": 0,
      "outputs": [
        {
          "output_type": "stream",
          "text": [
            "50 fetched URLs\n",
            "Some examples:\n"
          ],
          "name": "stdout"
        },
        {
          "output_type": "execute_result",
          "data": {
            "text/plain": [
              "['http://books.toscrape.com/index.html',\n",
              " 'http://books.toscrape.com/catalogue/page-2.html',\n",
              " 'http://books.toscrape.com/catalogue/page-3.html',\n",
              " 'http://books.toscrape.com/catalogue/page-4.html',\n",
              " 'http://books.toscrape.com/catalogue/page-5.html']"
            ]
          },
          "metadata": {
            "tags": []
          },
          "execution_count": 10
        }
      ]
    },
    {
      "cell_type": "code",
      "metadata": {
        "id": "fHHlAltLs10w",
        "colab_type": "code",
        "outputId": "2eff853f-4d6e-4bfb-99d7-a9f10a1221e3",
        "colab": {
          "base_uri": "https://localhost:8080/",
          "height": 52
        }
      },
      "source": [
        "result = requests.get(\"http://books.toscrape.com/catalogue/page-50.html\")\n",
        "print(\"status code for page 50: \" + str(result.status_code))\n",
        "\n",
        "result = requests.get(\"http://books.toscrape.com/catalogue/page-51.html\")\n",
        "print(\"status code for page 51: \" + str(result.status_code))"
      ],
      "execution_count": 0,
      "outputs": [
        {
          "output_type": "stream",
          "text": [
            "status code for page 50: 200\n",
            "status code for page 51: 404\n"
          ],
          "name": "stdout"
        }
      ]
    },
    {
      "cell_type": "code",
      "metadata": {
        "id": "jUBGJmUEs55a",
        "colab_type": "code",
        "outputId": "43faeb5b-a6a3-40f4-ad35-55249911c0f8",
        "colab": {
          "base_uri": "https://localhost:8080/",
          "height": 139
        }
      },
      "source": [
        "booksURLs = []\n",
        "for page in pages_urls:\n",
        "    booksURLs.extend(getBooksURLs(page))\n",
        "    \n",
        "print(str(len(booksURLs)) + \" fetched URLs\")\n",
        "print(\"Some examples:\")\n",
        "booksURLs[:5]"
      ],
      "execution_count": 0,
      "outputs": [
        {
          "output_type": "stream",
          "text": [
            "1000 fetched URLs\n",
            "Some examples:\n"
          ],
          "name": "stdout"
        },
        {
          "output_type": "execute_result",
          "data": {
            "text/plain": [
              "['http://books.toscrape.com/catalogue/a-light-in-the-attic_1000/index.html',\n",
              " 'http://books.toscrape.com/catalogue/tipping-the-velvet_999/index.html',\n",
              " 'http://books.toscrape.com/catalogue/soumission_998/index.html',\n",
              " 'http://books.toscrape.com/catalogue/sharp-objects_997/index.html',\n",
              " 'http://books.toscrape.com/catalogue/sapiens-a-brief-history-of-humankind_996/index.html']"
            ]
          },
          "metadata": {
            "tags": []
          },
          "execution_count": 12
        }
      ]
    },
    {
      "cell_type": "code",
      "metadata": {
        "id": "wZrfna31tEV9",
        "colab_type": "code",
        "outputId": "525b6b87-630d-430a-b2b7-22da6c6c260c",
        "colab": {
          "base_uri": "https://localhost:8080/",
          "height": 202
        }
      },
      "source": [
        "names = []\n",
        "prices = []\n",
        "nb_in_stock = []\n",
        "\n",
        "\n",
        "# scrape data for every book URL: this may take some time\n",
        "for url in booksURLs:\n",
        "    soup = getAndParseURL(url)\n",
        "    # product name\n",
        "    names.append(soup.find(\"div\", class_ = re.compile(\"product_main\")).h1.text)\n",
        "    # product price\n",
        "    prices.append(soup.find(\"p\", class_ = \"price_color\").text[2:]) # get rid of the pound sign\n",
        "    # number of available products\n",
        "    nb_in_stock.append(re.sub(\"[^0-9]\", \"\", soup.find(\"p\", class_ = \"instock availability\").text)) # get rid of non numerical characters\n",
        "    \n",
        "    \n",
        "# add data into pandas df\n",
        "import pandas as pd\n",
        "\n",
        "scraped_data = pd.DataFrame({'name': names, 'price': prices, 'nb_in_stock': nb_in_stock})\n",
        "scraped_data.head()"
      ],
      "execution_count": 0,
      "outputs": [
        {
          "output_type": "execute_result",
          "data": {
            "text/html": [
              "<div>\n",
              "<style scoped>\n",
              "    .dataframe tbody tr th:only-of-type {\n",
              "        vertical-align: middle;\n",
              "    }\n",
              "\n",
              "    .dataframe tbody tr th {\n",
              "        vertical-align: top;\n",
              "    }\n",
              "\n",
              "    .dataframe thead th {\n",
              "        text-align: right;\n",
              "    }\n",
              "</style>\n",
              "<table border=\"1\" class=\"dataframe\">\n",
              "  <thead>\n",
              "    <tr style=\"text-align: right;\">\n",
              "      <th></th>\n",
              "      <th>name</th>\n",
              "      <th>price</th>\n",
              "      <th>nb_in_stock</th>\n",
              "    </tr>\n",
              "  </thead>\n",
              "  <tbody>\n",
              "    <tr>\n",
              "      <th>0</th>\n",
              "      <td>A Light in the Attic</td>\n",
              "      <td>51.77</td>\n",
              "      <td>22</td>\n",
              "    </tr>\n",
              "    <tr>\n",
              "      <th>1</th>\n",
              "      <td>Tipping the Velvet</td>\n",
              "      <td>53.74</td>\n",
              "      <td>20</td>\n",
              "    </tr>\n",
              "    <tr>\n",
              "      <th>2</th>\n",
              "      <td>Soumission</td>\n",
              "      <td>50.10</td>\n",
              "      <td>20</td>\n",
              "    </tr>\n",
              "    <tr>\n",
              "      <th>3</th>\n",
              "      <td>Sharp Objects</td>\n",
              "      <td>47.82</td>\n",
              "      <td>20</td>\n",
              "    </tr>\n",
              "    <tr>\n",
              "      <th>4</th>\n",
              "      <td>Sapiens: A Brief History of Humankind</td>\n",
              "      <td>54.23</td>\n",
              "      <td>20</td>\n",
              "    </tr>\n",
              "  </tbody>\n",
              "</table>\n",
              "</div>"
            ],
            "text/plain": [
              "                                    name  price nb_in_stock\n",
              "0                   A Light in the Attic  51.77          22\n",
              "1                     Tipping the Velvet  53.74          20\n",
              "2                             Soumission  50.10          20\n",
              "3                          Sharp Objects  47.82          20\n",
              "4  Sapiens: A Brief History of Humankind  54.23          20"
            ]
          },
          "metadata": {
            "tags": []
          },
          "execution_count": 13
        }
      ]
    },
    {
      "cell_type": "markdown",
      "metadata": {
        "id": "_feGqFZVvBcE",
        "colab_type": "text"
      },
      "source": [
        "Used this link https://towardsdatascience.com/an-introduction-to-web-scraping-with-python-a2601e8619e5"
      ]
    },
    {
      "cell_type": "code",
      "metadata": {
        "id": "fFDe1ZhCwb-w",
        "colab_type": "code",
        "colab": {}
      },
      "source": [
        "import pandas as pd "
      ],
      "execution_count": 0,
      "outputs": []
    },
    {
      "cell_type": "code",
      "metadata": {
        "id": "ZtEhcRJawgmS",
        "colab_type": "code",
        "colab": {}
      },
      "source": [
        "scraped_data.to_csv('100 Books Scraped.csv')"
      ],
      "execution_count": 0,
      "outputs": []
    }
  ]
}